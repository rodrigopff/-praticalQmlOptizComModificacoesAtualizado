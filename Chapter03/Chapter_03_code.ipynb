{
 "cells": [
  {
   "cell_type": "markdown",
   "metadata": {
    "id": "UmvGv70AUVA3"
   },
   "source": [
    "# CHAPTER 3 - Working with Quadratic Unconstrained Binary Optimization Problems"
   ]
  },
  {
   "cell_type": "markdown",
   "metadata": {
    "id": "aP-Bp7kkUgDJ"
   },
   "source": [
    "*Note*: You may skip the following cell if you have alredy installed the right versions of all the libraries mentioned in *Appendix D*. This will likely NOT be the case if you are running this notebook on a cloud service such as Google Colab."
   ]
  },
  {
   "cell_type": "code",
   "execution_count": 7,
   "metadata": {
    "id": "CZnFNAaeYIn0"
   },
   "outputs": [
    {
     "name": "stdout",
     "output_type": "stream",
     "text": [
      "Collecting qiskit==0.39.2\n",
      "  Downloading qiskit-0.39.2.tar.gz (13 kB)\n",
      "  Preparing metadata (setup.py) ... \u001b[?25ldone\n",
      "\u001b[?25hCollecting qiskit-terra==0.22.2 (from qiskit==0.39.2)\n",
      "  Downloading qiskit_terra-0.22.2-cp39-cp39-manylinux_2_17_x86_64.manylinux2014_x86_64.whl (4.8 MB)\n",
      "\u001b[2K     \u001b[38;2;114;156;31m━━━━━━━━━━━━━━━━━━━━━━━━━━━━━━━━━━━━━━━━\u001b[0m \u001b[32m4.8/4.8 MB\u001b[0m \u001b[31m3.9 MB/s\u001b[0m eta \u001b[36m0:00:00\u001b[0mm eta \u001b[36m0:00:01\u001b[0m[36m0:00:01\u001b[0m\n",
      "\u001b[?25hCollecting qiskit-aer==0.11.1 (from qiskit==0.39.2)\n",
      "  Downloading qiskit_aer-0.11.1-cp39-cp39-manylinux_2_17_x86_64.manylinux2014_x86_64.whl (19.2 MB)\n",
      "\u001b[2K     \u001b[38;2;114;156;31m━━━━━━━━━━━━━━━━━━━━━━━━━━━━━━━━━━━━━━━━\u001b[0m \u001b[32m19.2/19.2 MB\u001b[0m \u001b[31m6.0 MB/s\u001b[0m eta \u001b[36m0:00:00\u001b[0mm eta \u001b[36m0:00:01\u001b[0m[36m0:00:01\u001b[0m\n",
      "\u001b[?25hCollecting qiskit-ibmq-provider==0.19.2 (from qiskit==0.39.2)\n",
      "  Using cached qiskit_ibmq_provider-0.19.2-py3-none-any.whl (240 kB)\n",
      "Requirement already satisfied: numpy>=1.16.3 in /home/furtado/anaconda3/envs/qmlPraticalOpt/lib/python3.9/site-packages (from qiskit-aer==0.11.1->qiskit==0.39.2) (1.23.5)\n",
      "Requirement already satisfied: scipy>=1.0 in /home/furtado/anaconda3/envs/qmlPraticalOpt/lib/python3.9/site-packages (from qiskit-aer==0.11.1->qiskit==0.39.2) (1.10.0)\n",
      "Requirement already satisfied: requests>=2.19 in /home/furtado/anaconda3/envs/qmlPraticalOpt/lib/python3.9/site-packages (from qiskit-ibmq-provider==0.19.2->qiskit==0.39.2) (2.31.0)\n",
      "Requirement already satisfied: requests-ntlm>=1.1.0 in /home/furtado/anaconda3/envs/qmlPraticalOpt/lib/python3.9/site-packages (from qiskit-ibmq-provider==0.19.2->qiskit==0.39.2) (1.1.0)\n",
      "Requirement already satisfied: urllib3>=1.21.1 in /home/furtado/anaconda3/envs/qmlPraticalOpt/lib/python3.9/site-packages (from qiskit-ibmq-provider==0.19.2->qiskit==0.39.2) (1.26.16)\n",
      "Requirement already satisfied: python-dateutil>=2.8.0 in /home/furtado/anaconda3/envs/qmlPraticalOpt/lib/python3.9/site-packages (from qiskit-ibmq-provider==0.19.2->qiskit==0.39.2) (2.8.2)\n",
      "Requirement already satisfied: websocket-client>=1.0.1 in /home/furtado/anaconda3/envs/qmlPraticalOpt/lib/python3.9/site-packages (from qiskit-ibmq-provider==0.19.2->qiskit==0.39.2) (1.6.1)\n",
      "Requirement already satisfied: websockets>=10.0 in /home/furtado/anaconda3/envs/qmlPraticalOpt/lib/python3.9/site-packages (from qiskit-ibmq-provider==0.19.2->qiskit==0.39.2) (11.0.3)\n",
      "Collecting retworkx>=0.11.0 (from qiskit-terra==0.22.2->qiskit==0.39.2)\n",
      "  Obtaining dependency information for retworkx>=0.11.0 from https://files.pythonhosted.org/packages/96/e4/3fbaf64d7a891cff6bf0761546fedb0551b2a0efe132459984f85fcc4fa0/retworkx-0.13.1-py3-none-any.whl.metadata\n",
      "  Downloading retworkx-0.13.1-py3-none-any.whl.metadata (10 kB)\n",
      "Requirement already satisfied: ply>=3.10 in /home/furtado/anaconda3/envs/qmlPraticalOpt/lib/python3.9/site-packages (from qiskit-terra==0.22.2->qiskit==0.39.2) (3.11)\n",
      "Requirement already satisfied: psutil>=5 in /home/furtado/anaconda3/envs/qmlPraticalOpt/lib/python3.9/site-packages (from qiskit-terra==0.22.2->qiskit==0.39.2) (5.9.5)\n",
      "Requirement already satisfied: sympy>=1.3 in /home/furtado/anaconda3/envs/qmlPraticalOpt/lib/python3.9/site-packages (from qiskit-terra==0.22.2->qiskit==0.39.2) (1.12)\n",
      "Requirement already satisfied: dill>=0.3 in /home/furtado/anaconda3/envs/qmlPraticalOpt/lib/python3.9/site-packages (from qiskit-terra==0.22.2->qiskit==0.39.2) (0.3.6)\n",
      "Requirement already satisfied: stevedore>=3.0.0 in /home/furtado/anaconda3/envs/qmlPraticalOpt/lib/python3.9/site-packages (from qiskit-terra==0.22.2->qiskit==0.39.2) (5.1.0)\n",
      "Requirement already satisfied: symengine>=0.9 in /home/furtado/anaconda3/envs/qmlPraticalOpt/lib/python3.9/site-packages (from qiskit-terra==0.22.2->qiskit==0.39.2) (0.9.2)\n",
      "Collecting tweedledum<2.0,>=1.1 (from qiskit-terra==0.22.2->qiskit==0.39.2)\n",
      "  Using cached tweedledum-1.1.1-cp39-cp39-manylinux_2_12_x86_64.manylinux2010_x86_64.whl (930 kB)\n",
      "Requirement already satisfied: six>=1.5 in /home/furtado/anaconda3/envs/qmlPraticalOpt/lib/python3.9/site-packages (from python-dateutil>=2.8.0->qiskit-ibmq-provider==0.19.2->qiskit==0.39.2) (1.16.0)\n",
      "Requirement already satisfied: charset-normalizer<4,>=2 in /home/furtado/anaconda3/envs/qmlPraticalOpt/lib/python3.9/site-packages (from requests>=2.19->qiskit-ibmq-provider==0.19.2->qiskit==0.39.2) (3.2.0)\n",
      "Requirement already satisfied: idna<4,>=2.5 in /home/furtado/anaconda3/envs/qmlPraticalOpt/lib/python3.9/site-packages (from requests>=2.19->qiskit-ibmq-provider==0.19.2->qiskit==0.39.2) (3.4)\n",
      "Requirement already satisfied: certifi>=2017.4.17 in /home/furtado/anaconda3/envs/qmlPraticalOpt/lib/python3.9/site-packages (from requests>=2.19->qiskit-ibmq-provider==0.19.2->qiskit==0.39.2) (2023.5.7)\n",
      "Requirement already satisfied: ntlm-auth>=1.0.2 in /home/furtado/anaconda3/envs/qmlPraticalOpt/lib/python3.9/site-packages (from requests-ntlm>=1.1.0->qiskit-ibmq-provider==0.19.2->qiskit==0.39.2) (1.5.0)\n",
      "Requirement already satisfied: cryptography>=1.3 in /home/furtado/anaconda3/envs/qmlPraticalOpt/lib/python3.9/site-packages (from requests-ntlm>=1.1.0->qiskit-ibmq-provider==0.19.2->qiskit==0.39.2) (41.0.2)\n",
      "Collecting rustworkx==0.13.1 (from retworkx>=0.11.0->qiskit-terra==0.22.2->qiskit==0.39.2)\n",
      "  Obtaining dependency information for rustworkx==0.13.1 from https://files.pythonhosted.org/packages/ef/b1/ecaadd86cc812a22329efb753922226f1b797e2ab225d3aac05689482d3f/rustworkx-0.13.1-cp39-cp39-manylinux_2_17_x86_64.manylinux2014_x86_64.whl.metadata\n",
      "  Downloading rustworkx-0.13.1-cp39-cp39-manylinux_2_17_x86_64.manylinux2014_x86_64.whl.metadata (10 kB)\n",
      "Requirement already satisfied: pbr!=2.1.0,>=2.0.0 in /home/furtado/anaconda3/envs/qmlPraticalOpt/lib/python3.9/site-packages (from stevedore>=3.0.0->qiskit-terra==0.22.2->qiskit==0.39.2) (5.11.1)\n",
      "Requirement already satisfied: mpmath>=0.19 in /home/furtado/anaconda3/envs/qmlPraticalOpt/lib/python3.9/site-packages (from sympy>=1.3->qiskit-terra==0.22.2->qiskit==0.39.2) (1.3.0)\n",
      "Requirement already satisfied: cffi>=1.12 in /home/furtado/anaconda3/envs/qmlPraticalOpt/lib/python3.9/site-packages (from cryptography>=1.3->requests-ntlm>=1.1.0->qiskit-ibmq-provider==0.19.2->qiskit==0.39.2) (1.15.1)\n",
      "Requirement already satisfied: pycparser in /home/furtado/anaconda3/envs/qmlPraticalOpt/lib/python3.9/site-packages (from cffi>=1.12->cryptography>=1.3->requests-ntlm>=1.1.0->qiskit-ibmq-provider==0.19.2->qiskit==0.39.2) (2.21)\n",
      "Downloading retworkx-0.13.1-py3-none-any.whl (10 kB)\n",
      "Downloading rustworkx-0.13.1-cp39-cp39-manylinux_2_17_x86_64.manylinux2014_x86_64.whl (2.0 MB)\n",
      "\u001b[2K   \u001b[38;2;114;156;31m━━━━━━━━━━━━━━━━━━━━━━━━━━━━━━━━━━━━━━━━\u001b[0m \u001b[32m2.0/2.0 MB\u001b[0m \u001b[31m8.0 MB/s\u001b[0m eta \u001b[36m0:00:00\u001b[0mm eta \u001b[36m0:00:01\u001b[0m[36m0:00:01\u001b[0m\n",
      "\u001b[?25hBuilding wheels for collected packages: qiskit\n",
      "  Building wheel for qiskit (setup.py) ... \u001b[?25ldone\n",
      "\u001b[?25h  Created wheel for qiskit: filename=qiskit-0.39.2-py3-none-any.whl size=12206 sha256=307d530732370587d00ce68fb74a90e0e053d02ebabbec00dd2c1c8706371ede\n",
      "  Stored in directory: /home/furtado/.cache/pip/wheels/b2/cf/69/0260f580ce28de3d2bb05e3390f8922ac8117d1c8a6091fde3\n",
      "Successfully built qiskit\n",
      "Installing collected packages: tweedledum, rustworkx, retworkx, qiskit-terra, qiskit-ibmq-provider, qiskit-aer, qiskit\n",
      "  Attempting uninstall: rustworkx\n",
      "    Found existing installation: rustworkx 0.13.0\n",
      "    Uninstalling rustworkx-0.13.0:\n",
      "      Successfully uninstalled rustworkx-0.13.0\n",
      "  Attempting uninstall: qiskit-terra\n",
      "    Found existing installation: qiskit-terra 0.24.2\n",
      "    Uninstalling qiskit-terra-0.24.2:\n",
      "      Successfully uninstalled qiskit-terra-0.24.2\n",
      "  Attempting uninstall: qiskit-ibmq-provider\n",
      "    Found existing installation: qiskit-ibmq-provider 0.20.2\n",
      "    Uninstalling qiskit-ibmq-provider-0.20.2:\n",
      "      Successfully uninstalled qiskit-ibmq-provider-0.20.2\n",
      "  Attempting uninstall: qiskit-aer\n",
      "    Found existing installation: qiskit-aer 0.12.2\n",
      "    Uninstalling qiskit-aer-0.12.2:\n",
      "      Successfully uninstalled qiskit-aer-0.12.2\n",
      "  Attempting uninstall: qiskit\n",
      "    Found existing installation: qiskit 0.43.3\n",
      "    Uninstalling qiskit-0.43.3:\n",
      "      Successfully uninstalled qiskit-0.43.3\n",
      "\u001b[31mERROR: pip's dependency resolver does not currently take into account all the packages that are installed. This behaviour is the source of the following dependency conflicts.\n",
      "qiskit-ibm-provider 0.6.1 requires qiskit-terra>=0.24.0, but you have qiskit-terra 0.22.2 which is incompatible.\n",
      "qiskit-ibm-runtime 0.11.2 requires qiskit-terra>=0.24.0, but you have qiskit-terra 0.22.2 which is incompatible.\n",
      "qiskit-nature 0.6.2 requires qiskit-terra>=0.24, but you have qiskit-terra 0.22.2 which is incompatible.\n",
      "qiskit-optimization 0.5.0 requires qiskit-terra>=0.22.4, but you have qiskit-terra 0.22.2 which is incompatible.\u001b[0m\u001b[31m\n",
      "\u001b[0mSuccessfully installed qiskit-0.39.2 qiskit-aer-0.11.1 qiskit-ibmq-provider-0.19.2 qiskit-terra-0.22.2 retworkx-0.13.1 rustworkx-0.13.1 tweedledum-1.1.1\n",
      "Note: you may need to restart the kernel to use updated packages.\n"
     ]
    }
   ],
   "source": [
    "pip install qiskit==0.39.2"
   ]
  },
  {
   "cell_type": "code",
   "execution_count": 43,
   "metadata": {
    "id": "Gjx-nOMxYwii"
   },
   "outputs": [
    {
     "name": "stdout",
     "output_type": "stream",
     "text": [
      "zero is Statevector([1.+0.j, 0.+0.j],\n",
      "            dims=(2,))\n"
     ]
    }
   ],
   "source": [
    "from qiskit.quantum_info import Statevector\n",
    "zero = Statevector([1,0])\n",
    "print(\"zero is\", zero)"
   ]
  },
  {
   "cell_type": "code",
   "execution_count": 44,
   "metadata": {
    "id": "En0aSXKQYxoJ"
   },
   "outputs": [
    {
     "name": "stdout",
     "output_type": "stream",
     "text": [
      "one is Statevector([0.+0.j, 1.+0.j],\n",
      "            dims=(2,))\n"
     ]
    }
   ],
   "source": [
    "one = Statevector([0,1])\n",
    "print(\"one is\",one)"
   ]
  },
  {
   "cell_type": "code",
   "execution_count": 45,
   "metadata": {
    "id": "T9MKfavZY7rZ"
   },
   "outputs": [
    {
     "name": "stdout",
     "output_type": "stream",
     "text": [
      "zero is Statevector([1.+0.j, 0.+0.j],\n",
      "            dims=(2,))\n",
      "one is Statevector([0.+0.j, 1.+0.j],\n",
      "            dims=(2,))\n"
     ]
    }
   ],
   "source": [
    "zero = Statevector.from_int(0, dims = 2)\n",
    "one = Statevector.from_int(1, dims = 2)\n",
    "print(\"zero is\",zero)\n",
    "print(\"one is\",one)"
   ]
  },
  {
   "cell_type": "code",
   "execution_count": 46,
   "metadata": {
    "id": "fMLAvqhHY-qi"
   },
   "outputs": [
    {
     "name": "stdout",
     "output_type": "stream",
     "text": [
      "psi is Statevector([0.+0.j, 0.+0.j, 0.+0.j, 0.+0.j, 1.+0.j, 0.+0.j, 0.+0.j,\n",
      "             0.+0.j],\n",
      "            dims=(2, 2, 2))\n"
     ]
    }
   ],
   "source": [
    "psi = one.tensor(zero.tensor(zero))\n",
    "print(\"psi is\",psi)"
   ]
  },
  {
   "cell_type": "code",
   "execution_count": 47,
   "metadata": {
    "id": "GVaxcff6ZCuq"
   },
   "outputs": [
    {
     "data": {
      "text/latex": [
       "$$ |100\\rangle$$"
      ],
      "text/plain": [
       "<IPython.core.display.Latex object>"
      ]
     },
     "execution_count": 47,
     "metadata": {},
     "output_type": "execute_result"
    }
   ],
   "source": [
    "psi = one^zero^zero\n",
    "psi.draw(\"latex\")"
   ]
  },
  {
   "cell_type": "code",
   "execution_count": 48,
   "metadata": {
    "id": "GLDLHezZZHl3"
   },
   "outputs": [],
   "source": [
    "psi = Statevector.from_int(4, dims = 8)\n"
   ]
  },
  {
   "cell_type": "code",
   "execution_count": 49,
   "metadata": {
    "id": "FuDU-1mvZLii"
   },
   "outputs": [],
   "source": [
    "from numpy import sqrt\n",
    "ghz = 1/sqrt(2)*(zero^zero^zero) + 1/sqrt(2)*(one^one^one)"
   ]
  },
  {
   "cell_type": "code",
   "execution_count": 50,
   "metadata": {
    "id": "ZB20QWVCZRTn"
   },
   "outputs": [
    {
     "name": "stdout",
     "output_type": "stream",
     "text": [
      "And its matrix is\n",
      "[[ 1.+0.j  0.+0.j  0.+0.j  0.+0.j  0.+0.j  0.+0.j  0.+0.j  0.+0.j]\n",
      " [ 0.+0.j  1.+0.j  0.+0.j  0.+0.j  0.+0.j  0.+0.j  0.+0.j  0.+0.j]\n",
      " [ 0.+0.j  0.+0.j -1.+0.j  0.+0.j  0.+0.j  0.+0.j  0.+0.j  0.+0.j]\n",
      " [ 0.+0.j  0.+0.j  0.+0.j -1.+0.j  0.+0.j  0.+0.j  0.+0.j  0.+0.j]\n",
      " [ 0.+0.j  0.+0.j  0.+0.j  0.+0.j -1.+0.j  0.+0.j  0.+0.j  0.+0.j]\n",
      " [ 0.+0.j  0.+0.j  0.+0.j  0.+0.j  0.+0.j -1.+0.j  0.+0.j  0.+0.j]\n",
      " [ 0.+0.j  0.+0.j  0.+0.j  0.+0.j  0.+0.j  0.+0.j  1.+0.j  0.+0.j]\n",
      " [ 0.+0.j  0.+0.j  0.+0.j  0.+0.j  0.+0.j  0.+0.j  0.+0.j  1.+0.j]]\n"
     ]
    }
   ],
   "source": [
    "from qiskit.quantum_info import Pauli\n",
    "\n",
    "Z0Z1 = Pauli(\"ZZI\")\n",
    "print(\"And its matrix is\")\n",
    "print(Z0Z1.to_matrix())"
   ]
  },
  {
   "cell_type": "code",
   "execution_count": 51,
   "metadata": {
    "id": "MvMceulAZUeG"
   },
   "outputs": [
    {
     "name": "stdout",
     "output_type": "stream",
     "text": [
      "The sparse representation of Z0Z1 is\n",
      "  (0, 0)\t(1+0j)\n",
      "  (1, 1)\t(1+0j)\n",
      "  (2, 2)\t(-1+0j)\n",
      "  (3, 3)\t(-1+0j)\n",
      "  (4, 4)\t(-1+0j)\n",
      "  (5, 5)\t(-1+0j)\n",
      "  (6, 6)\t(1+0j)\n",
      "  (7, 7)\t(1+0j)\n"
     ]
    }
   ],
   "source": [
    "print(\"The sparse representation of Z0Z1 is\")\n",
    "print(Z0Z1.to_matrix(sparse=True))"
   ]
  },
  {
   "cell_type": "code",
   "execution_count": 52,
   "metadata": {
    "id": "ZqUHzFDLZZoj"
   },
   "outputs": [],
   "source": [
    "Z0Z1 = Pauli(([0,1,1],[0,0,0]))\n"
   ]
  },
  {
   "cell_type": "code",
   "execution_count": 53,
   "metadata": {
    "id": "pSJUs9XkZcQi"
   },
   "outputs": [
    {
     "name": "stdout",
     "output_type": "stream",
     "text": [
      "H_cut is\n",
      "[[ 2.+0.j  0.+0.j  0.+0.j  0.+0.j  0.+0.j  0.+0.j  0.+0.j  0.+0.j]\n",
      " [ 0.+0.j  0.+0.j  0.+0.j  0.+0.j  0.+0.j  0.+0.j  0.+0.j  0.+0.j]\n",
      " [ 0.+0.j  0.+0.j  0.+0.j  0.+0.j  0.+0.j  0.+0.j  0.+0.j  0.+0.j]\n",
      " [ 0.+0.j  0.+0.j  0.+0.j -2.+0.j  0.+0.j  0.+0.j  0.+0.j  0.+0.j]\n",
      " [ 0.+0.j  0.+0.j  0.+0.j  0.+0.j -2.+0.j  0.+0.j  0.+0.j  0.+0.j]\n",
      " [ 0.+0.j  0.+0.j  0.+0.j  0.+0.j  0.+0.j  0.+0.j  0.+0.j  0.+0.j]\n",
      " [ 0.+0.j  0.+0.j  0.+0.j  0.+0.j  0.+0.j  0.+0.j  0.+0.j  0.+0.j]\n",
      " [ 0.+0.j  0.+0.j  0.+0.j  0.+0.j  0.+0.j  0.+0.j  0.+0.j  2.+0.j]]\n",
      "The sparse representation of H_cut is\n",
      "  (0, 0)\t(2+0j)\n",
      "  (3, 3)\t(-2+0j)\n",
      "  (4, 4)\t(-2+0j)\n",
      "  (7, 7)\t(2+0j)\n"
     ]
    }
   ],
   "source": [
    "#from qiskit.opflow.primitive_ops import PauliOp ## Depreciado\n",
    "from qiskit.quantum_info import Operator\n",
    "from scipy import sparse\n",
    "\n",
    "H_cut = Operator(Pauli(\"ZZI\")) + Operator(Pauli(\"ZIZ\"))\n",
    "\n",
    "#HH_cut = PauliOp(Pauli(\"ZZI\")) + PauliOp(Pauli(\"ZIZ\")) ## Depreciado\n",
    "\n",
    "print(\"H_cut is\")\n",
    "print(H_cut.to_matrix())\n",
    "print(\"The sparse representation of H_cut is\")\n",
    "print(sparse.csr_matrix(H_cut.to_matrix()))\n",
    "\n",
    "#print(H_cut.to_spmatrix()) ## Depreciado\n"
   ]
  },
  {
   "cell_type": "code",
   "execution_count": 31,
   "metadata": {
    "id": "Y99EIyG4ZfMD"
   },
   "outputs": [
    {
     "name": "stdout",
     "output_type": "stream",
     "text": [
      "H_cut is\n",
      "Operator([[ 2.+0.j,  0.+0.j,  0.+0.j,  0.+0.j,  0.+0.j,  0.+0.j,  0.+0.j,\n",
      "            0.+0.j],\n",
      "          [ 0.+0.j,  0.+0.j,  0.+0.j,  0.+0.j,  0.+0.j,  0.+0.j,  0.+0.j,\n",
      "            0.+0.j],\n",
      "          [ 0.+0.j,  0.+0.j,  0.+0.j,  0.+0.j,  0.+0.j,  0.+0.j,  0.+0.j,\n",
      "            0.+0.j],\n",
      "          [ 0.+0.j,  0.+0.j,  0.+0.j, -2.+0.j,  0.+0.j,  0.+0.j,  0.+0.j,\n",
      "            0.+0.j],\n",
      "          [ 0.+0.j,  0.+0.j,  0.+0.j,  0.+0.j, -2.+0.j,  0.+0.j,  0.+0.j,\n",
      "            0.+0.j],\n",
      "          [ 0.+0.j,  0.+0.j,  0.+0.j,  0.+0.j,  0.+0.j,  0.+0.j,  0.+0.j,\n",
      "            0.+0.j],\n",
      "          [ 0.+0.j,  0.+0.j,  0.+0.j,  0.+0.j,  0.+0.j,  0.+0.j,  0.+0.j,\n",
      "            0.+0.j],\n",
      "          [ 0.+0.j,  0.+0.j,  0.+0.j,  0.+0.j,  0.+0.j,  0.+0.j,  0.+0.j,\n",
      "            2.+0.j]],\n",
      "         input_dims=(2, 2, 2), output_dims=(2, 2, 2))\n",
      "\n",
      " [[ 2.+0.j  0.+0.j  0.+0.j  0.+0.j  0.+0.j  0.+0.j  0.+0.j  0.+0.j]\n",
      "  [ 0.+0.j  0.+0.j  0.+0.j  0.+0.j  0.+0.j  0.+0.j  0.+0.j  0.+0.j]\n",
      "  [ 0.+0.j  0.+0.j  0.+0.j  0.+0.j  0.+0.j  0.+0.j  0.+0.j  0.+0.j]\n",
      "  [ 0.+0.j  0.+0.j  0.+0.j -2.+0.j  0.+0.j  0.+0.j  0.+0.j  0.+0.j]\n",
      "  [ 0.+0.j  0.+0.j  0.+0.j  0.+0.j -2.+0.j  0.+0.j  0.+0.j  0.+0.j]\n",
      "  [ 0.+0.j  0.+0.j  0.+0.j  0.+0.j  0.+0.j  0.+0.j  0.+0.j  0.+0.j]\n",
      "  [ 0.+0.j  0.+0.j  0.+0.j  0.+0.j  0.+0.j  0.+0.j  0.+0.j  0.+0.j]\n",
      " [ 0.+0.j  0.+0.j  0.+0.j  0.+0.j  0.+0.j  0.+0.j  0.+0.j  2.+0.j]]\n",
      "\n",
      "⎡2.0  0  0   0     0    0  0   0 ⎤\n",
      "⎢                                ⎥\n",
      "⎢ 0   0  0   0     0    0  0   0 ⎥\n",
      "⎢                                ⎥\n",
      "⎢ 0   0  0   0     0    0  0   0 ⎥\n",
      "⎢                                ⎥\n",
      "⎢ 0   0  0  -2.0   0    0  0   0 ⎥\n",
      "⎢                                ⎥\n",
      "⎢ 0   0  0   0    -2.0  0  0   0 ⎥\n",
      "⎢                                ⎥\n",
      "⎢ 0   0  0   0     0    0  0   0 ⎥\n",
      "⎢                                ⎥\n",
      "⎢ 0   0  0   0     0    0  0   0 ⎥\n",
      "⎢                                ⎥\n",
      "⎣ 0   0  0   0     0    0  0  2.0⎦\n"
     ]
    }
   ],
   "source": [
    "#from qiskit.opflow import I, Z\n",
    "from qiskit.quantum_info import Pauli, SparsePauliOp\n",
    "\n",
    "from sympy import Matrix, pprint\n",
    "\n",
    "H_cut = Operator(Pauli(\"ZZI\")) + Operator(Pauli(\"ZIZ\"))\n",
    "#Z = Pauli('Z')\n",
    "#I = Pauli('I')\n",
    "#ZZI = Z^Z^I\n",
    "#ZIZ = Z^I^Z\n",
    "#operator_1 = SparsePauliOp(ZZI)\n",
    "#operator_2 = SparsePauliOp(ZIZ)\n",
    "\n",
    "\n",
    "#operator_FINAL = SparsePauliOp.sum([operator_1, operator_2])\n",
    "#H_cut = operator_FINAL\n",
    "##H_cut = (Z^Z^I) + (Z^I^Z)\n",
    "print(\"H_cut is\")\n",
    "print(H_cut)\n",
    "print()\n",
    "pprint(H_cut.to_matrix())\n",
    "print()\n",
    "pprint(Matrix(H_cut.to_matrix()))\n"
   ]
  },
  {
   "cell_type": "code",
   "execution_count": 54,
   "metadata": {
    "id": "YWGLJ_ihZiOI"
   },
   "outputs": [],
   "source": [
    "#H_ising = -0.5*(Z^Z^I) + 2*(Z^I^Z) -(I^Z^Z) + (I^Z^I) -5*(I^I^Z) #depreciado\n",
    "H_ising = -0.5*Operator(Pauli('ZZI')) + 2*Operator(Pauli('ZIZ')) - Operator(Pauli('IZZ')) + Operator(Pauli('IZI')) -5*Operator(Pauli('IIZ'))\n"
   ]
  },
  {
   "cell_type": "code",
   "execution_count": 55,
   "metadata": {
    "id": "3LT0fPr_ZlYs"
   },
   "outputs": [
    {
     "name": "stdout",
     "output_type": "stream",
     "text": [
      "The expectation value is (-2+0j)\n"
     ]
    }
   ],
   "source": [
    "print(\"The expectation value is\", psi.expectation_value(H_cut))\n"
   ]
  },
  {
   "cell_type": "code",
   "execution_count": 56,
   "metadata": {
    "id": "AIco0JrvZoHw"
   },
   "outputs": [
    {
     "name": "stdout",
     "output_type": "stream",
     "text": [
      "The expectation value is (-2+0j)\n"
     ]
    }
   ],
   "source": [
    "print(\"The expectation value is\", psi.inner(psi.evolve(H_cut)))\n"
   ]
  },
  {
   "cell_type": "code",
   "execution_count": 58,
   "metadata": {
    "id": "yuJbekb5Zrys"
   },
   "outputs": [
    {
     "name": "stdout",
     "output_type": "stream",
     "text": [
      "The expectation value of | 0 > is (2+0j)\n",
      "The expectation value of | 1 > is 0j\n",
      "The expectation value of | 2 > is 0j\n",
      "The expectation value of | 3 > is (-2+0j)\n",
      "The expectation value of | 4 > is (-2+0j)\n",
      "The expectation value of | 5 > is 0j\n",
      "The expectation value of | 6 > is 0j\n",
      "The expectation value of | 7 > is (2+0j)\n"
     ]
    }
   ],
   "source": [
    "from qiskit.quantum_info import Pauli\n",
    "#from qiskit.opflow.primitive_ops import PauliOp\n",
    "from qiskit.quantum_info import Statevector\n",
    "from sympy.physics.quantum import Bra,Ket\n",
    "\n",
    "#H_cut = PauliOp(Pauli(\"ZZI\")) + PauliOp(Pauli(\"ZIZ\")) ## Depreciado\n",
    "H_cut = Operator(Pauli(\"ZZI\")) + Operator(Pauli(\"ZIZ\"))\n",
    "for x in range(8): # We consider x=0,1...7\n",
    "    psi = psi = Statevector.from_int(x, dims = 8)\n",
    "    #x = Ket(x)\n",
    "    #pprint(x)    \n",
    "    print(\"The expectation value of |\",x,\"> is\", \n",
    "        psi.expectation_value(H_cut))"
   ]
  },
  {
   "cell_type": "code",
   "execution_count": null,
   "metadata": {},
   "outputs": [],
   "source": []
  }
 ],
 "metadata": {
  "colab": {
   "provenance": []
  },
  "kernelspec": {
   "display_name": "Python 3 (ipykernel)",
   "language": "python",
   "name": "python3"
  },
  "language_info": {
   "codemirror_mode": {
    "name": "ipython",
    "version": 3
   },
   "file_extension": ".py",
   "mimetype": "text/x-python",
   "name": "python",
   "nbconvert_exporter": "python",
   "pygments_lexer": "ipython3",
   "version": "3.9.19"
  }
 },
 "nbformat": 4,
 "nbformat_minor": 4
}
