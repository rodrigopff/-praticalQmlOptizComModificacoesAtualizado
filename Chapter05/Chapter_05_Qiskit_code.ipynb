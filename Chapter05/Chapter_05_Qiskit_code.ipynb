{
 "cells": [
  {
   "cell_type": "markdown",
   "metadata": {
    "id": "tdx6IZHGXsmh"
   },
   "source": [
    "# CHAPTER 5 - QAOA: Quantum Approximate Optimization Algorithm - Qiskit Code\n",
    "\n"
   ]
  },
  {
   "cell_type": "markdown",
   "metadata": {
    "id": "KiTurOCpXi6e"
   },
   "source": [
    "*Note*: You may skip the following three cells if you have alredy installed the right versions of all the libraries mentioned in *Appendix D*. This will likely NOT be the case if you are running this notebook on a cloud service such as Google Colab."
   ]
  },
  {
   "cell_type": "code",
   "execution_count": null,
   "metadata": {
    "id": "POaIcCD6bGh8"
   },
   "outputs": [],
   "source": [
    "pip install qiskit==0.39.2"
   ]
  },
  {
   "cell_type": "code",
   "execution_count": null,
   "metadata": {
    "id": "9iMfBhHFbgRF"
   },
   "outputs": [],
   "source": [
    "pip install pylatexenc==2.10"
   ]
  },
  {
   "cell_type": "code",
   "execution_count": null,
   "metadata": {
    "id": "lkfNNKdJcajo"
   },
   "outputs": [],
   "source": [
    "pip install qiskit-optimization==0.4.0"
   ]
  },
  {
   "cell_type": "code",
   "execution_count": 16,
   "metadata": {
    "id": "tVVsWzeEbMv4"
   },
   "outputs": [
    {
     "ename": "ImportError",
     "evalue": "cannot import name 'Aer' from 'qiskit' (/home/furtado/anaconda3/envs/TesteqmlPraticalOpt/lib/python3.9/site-packages/qiskit/__init__.py)",
     "output_type": "error",
     "traceback": [
      "\u001b[0;31m---------------------------------------------------------------------------\u001b[0m",
      "\u001b[0;31mImportError\u001b[0m                               Traceback (most recent call last)",
      "Cell \u001b[0;32mIn[16], line 12\u001b[0m\n\u001b[1;32m      9\u001b[0m \u001b[38;5;66;03m# Setting our seed value\u001b[39;00m\n\u001b[1;32m     10\u001b[0m np\u001b[38;5;241m.\u001b[39mrandom\u001b[38;5;241m.\u001b[39mseed(\u001b[38;5;241m1234\u001b[39m)\n\u001b[0;32m---> 12\u001b[0m \u001b[38;5;28;01mfrom\u001b[39;00m \u001b[38;5;21;01mqiskit\u001b[39;00m \u001b[38;5;28;01mimport\u001b[39;00m Aer\n\u001b[1;32m     14\u001b[0m \u001b[38;5;66;03m#H1 = Z^Z # Define Z_0Z_1 # depreciado\u001b[39;00m\n\u001b[1;32m     15\u001b[0m H1 \u001b[38;5;241m=\u001b[39m Pauli(\u001b[38;5;124m'\u001b[39m\u001b[38;5;124mZZ\u001b[39m\u001b[38;5;124m'\u001b[39m) \u001b[38;5;66;03m# Define Z_0Z_1\u001b[39;00m\n",
      "\u001b[0;31mImportError\u001b[0m: cannot import name 'Aer' from 'qiskit' (/home/furtado/anaconda3/envs/TesteqmlPraticalOpt/lib/python3.9/site-packages/qiskit/__init__.py)"
     ]
    }
   ],
   "source": [
    "#from qiskit.opflow import Z\n",
    "from qiskit.quantum_info import Pauli\n",
    "#from qiskit.algorithms import QAOA # depreciado\n",
    "from qiskit_algorithms import QAOA\n",
    "from qiskit_algorithms.optimizers import COBYLA\n",
    "\n",
    "#from utils.algorithm_globals import algorithm_globals, QuantumInstance\n",
    "import numpy as np\n",
    "# Setting our seed value\n",
    "np.random.seed(1234)\n",
    "\n",
    "from qiskit import Aer\n",
    "\n",
    "#H1 = Z^Z # Define Z_0Z_1 # depreciado\n",
    "H1 = Pauli('ZZ') # Define Z_0Z_1\n",
    "\n",
    "#seed = 1234\n",
    "#algorithm_globals.random_seed = seed\n",
    "quantum_instance = QuantumInstance(Aer.get_backend(\"aer_simulator\"), \n",
    "                   seed_simulator=seed, seed_transpiler=seed, \n",
    "                   shots = 10)\n",
    "qaoa = QAOA(optimizer = COBYLA(), quantum_instance=quantum_instance)\n",
    "\n",
    "#qaoa = QAOA() 3 depreciado\n",
    "circuit = qaoa.construct_circuit([1,2],H1)[0]\n",
    "circuit.draw(output=\"mpl\")"
   ]
  },
  {
   "cell_type": "code",
   "execution_count": null,
   "metadata": {
    "id": "3Xe_aPBwbfbP"
   },
   "outputs": [],
   "source": [
    "circuit.decompose().decompose().draw(output=\"mpl\")\n"
   ]
  },
  {
   "cell_type": "code",
   "execution_count": null,
   "metadata": {
    "id": "He-FMPh_brYm"
   },
   "outputs": [],
   "source": [
    "qaoa = QAOA(reps = 2)\n",
    "circuit = qaoa.construct_circuit([1,2,3,4],H1)[0]\n",
    "circuit.decompose().decompose().draw(output=\"mpl\")"
   ]
  },
  {
   "cell_type": "code",
   "execution_count": null,
   "metadata": {
    "id": "isdq5OfJbwZ0"
   },
   "outputs": [],
   "source": [
    "from qiskit.utils import algorithm_globals, QuantumInstance\n",
    "from qiskit import Aer\n",
    "from qiskit.algorithms.optimizers import COBYLA\n",
    "\n",
    "seed = 1234\n",
    "algorithm_globals.random_seed = seed\n",
    "quantum_instance = QuantumInstance(Aer.get_backend(\"aer_simulator\"), \n",
    "                   seed_simulator=seed, seed_transpiler=seed, \n",
    "                   shots = 10)\n",
    "qaoa = QAOA(optimizer = COBYLA(), quantum_instance=quantum_instance)\n",
    "result = qaoa.compute_minimum_eigenvalue(H1)\n",
    "print(result)"
   ]
  },
  {
   "cell_type": "markdown",
   "metadata": {
    "id": "-e5zvw9IZQJB"
   },
   "source": [
    "*Note*: In the following cell, you need to replace \"1234\" with your actual IBM token. Refer to *Appendix D* in the book for instructions on how to create an account and get your token. Be very careful not to disclose your token to anyone!"
   ]
  },
  {
   "cell_type": "code",
   "execution_count": null,
   "metadata": {
    "id": "B8blF8VfY4In"
   },
   "outputs": [],
   "source": [
    "ibm_token=\"1234\""
   ]
  },
  {
   "cell_type": "code",
   "execution_count": null,
   "metadata": {
    "id": "6wcPPQFGcIuv"
   },
   "outputs": [],
   "source": [
    "from qiskit import IBMQ\n",
    "\n",
    "IBMQ.save_account(ibm_token)\n",
    "provider = IBMQ.load_account()\n",
    "program_id = \"qaoa\"\n",
    "\n",
    "H1 = Z^Z\n",
    "opt = COBYLA()\n",
    "reps = 1\n",
    "shots = 1024\n",
    "\n",
    "runtime_inputs = {\n",
    "    \"operator\": H1,\n",
    "    \"reps\": reps,\n",
    "    \"optimizer\": opt,\n",
    "    \"initial_point\": [0,0],\n",
    "    \"use_swap_strategies\": False\n",
    "}\n",
    "\n",
    "options = {\"backend_name\": \"ibmq_belem\"}\n",
    "\n",
    "job = provider.runtime.run(program_id=program_id, \n",
    "      options=options, inputs=runtime_inputs)"
   ]
  },
  {
   "cell_type": "code",
   "execution_count": null,
   "metadata": {
    "id": "1RzFMgeDcMW0"
   },
   "outputs": [],
   "source": [
    "result = job.result()\n",
    "print(\"Optimizer time\", result['optimizer_time'])\n",
    "print(\"Optimal value\", result['optimal_value'])\n",
    "print(\"Optimal point\", result['optimal_point'])\n",
    "print(\"Optimal state\", result['eigenstate'])"
   ]
  },
  {
   "cell_type": "code",
   "execution_count": null,
   "metadata": {
    "id": "73rn2TllcUe0"
   },
   "outputs": [],
   "source": [
    "from qiskit_optimization.problems import QuadraticProgram\n",
    "\n",
    "qp = QuadraticProgram()\n",
    "qp.binary_var('x')\n",
    "qp.binary_var('y')\n",
    "qp.binary_var('z')\n",
    "\n",
    "qp.minimize(linear = {'y':-1}, quadratic = {('x','y'):2, ('z','y'):-4})\n",
    "qp.linear_constraint(linear = {'x':1, 'y':2, 'z':3}, \n",
    "    sense =\"<=\", rhs = 5)\n",
    "\n",
    "print(qp.export_as_lp_string())"
   ]
  },
  {
   "cell_type": "code",
   "execution_count": null,
   "metadata": {
    "id": "MVavhhxBcZXL"
   },
   "outputs": [],
   "source": [
    "from qiskit_optimization.algorithms import MinimumEigenOptimizer\n",
    "from qiskit.algorithms import NumPyMinimumEigensolver\n",
    "np_solver = NumPyMinimumEigensolver()\n",
    "np_optimizer = MinimumEigenOptimizer(np_solver)\n",
    "result = np_optimizer.solve(qp)\n",
    "print(result)"
   ]
  },
  {
   "cell_type": "code",
   "execution_count": null,
   "metadata": {
    "id": "eyeShX1ncwpF"
   },
   "outputs": [],
   "source": [
    "from qiskit import Aer\n",
    "from qiskit.algorithms import QAOA\n",
    "from qiskit.algorithms.optimizers import COBYLA\n",
    "from qiskit.utils import QuantumInstance\n",
    "quantum_instance = QuantumInstance(Aer.get_backend(\"aer_simulator\"), \n",
    "    shots = 1024)\n",
    "qaoa = QAOA(optimizer = COBYLA(), \n",
    "    quantum_instance=quantum_instance, reps = 1)  \n",
    "qaoa_optimizer = MinimumEigenOptimizer(qaoa)\n",
    "result = qaoa_optimizer.solve(qp)\n",
    "print(result)"
   ]
  },
  {
   "cell_type": "code",
   "execution_count": null,
   "metadata": {
    "id": "k1PrK8Q7c5p5"
   },
   "outputs": [],
   "source": [
    "print('Variable order:', [var.name for var in result.variables])\n",
    "for s in result.samples:\n",
    "    print(s)"
   ]
  },
  {
   "cell_type": "code",
   "execution_count": null,
   "metadata": {
    "id": "YP21bxWJc9YT"
   },
   "outputs": [],
   "source": [
    "print(result.min_eigen_solver_result)\n"
   ]
  },
  {
   "cell_type": "code",
   "execution_count": null,
   "metadata": {
    "id": "o6KSJuVidA7z"
   },
   "outputs": [],
   "source": [
    "from qiskit_optimization.converters import QuadraticProgramToQubo\n",
    "qp_to_qubo = QuadraticProgramToQubo()\n",
    "qubo = qp_to_qubo.convert(qp)\n",
    "print(qubo.export_as_lp_string())"
   ]
  },
  {
   "cell_type": "code",
   "execution_count": null,
   "metadata": {
    "id": "nemSmmIpdDts"
   },
   "outputs": [],
   "source": [
    "H1, offset = qubo.to_ising()\n",
    "print(\"The Hamiltonian is\", H1)\n",
    "print(\"The constant term is\", offset)"
   ]
  },
  {
   "cell_type": "code",
   "execution_count": null,
   "metadata": {
    "id": "v5zVTUsvdG_U"
   },
   "outputs": [],
   "source": [
    "from qiskit_optimization.runtime import QAOAClient\n",
    "from qiskit import IBMQ\n",
    "\n",
    "provider = IBMQ.load_account()\n",
    "qaoa_client = QAOAClient(provider=provider, \n",
    "                      backend=provider.get_backend(\"ibm_oslo\"), reps=1)\n",
    "\n",
    "qaoa = MinimumEigenOptimizer(qaoa_client)\n",
    "result = qaoa.solve(qp)\n",
    "print(result)"
   ]
  }
 ],
 "metadata": {
  "colab": {
   "provenance": []
  },
  "kernelspec": {
   "display_name": "Python 3 (ipykernel)",
   "language": "python",
   "name": "python3"
  },
  "language_info": {
   "codemirror_mode": {
    "name": "ipython",
    "version": 3
   },
   "file_extension": ".py",
   "mimetype": "text/x-python",
   "name": "python",
   "nbconvert_exporter": "python",
   "pygments_lexer": "ipython3",
   "version": "3.9.19"
  }
 },
 "nbformat": 4,
 "nbformat_minor": 4
}
